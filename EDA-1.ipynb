{
 "cells": [
  {
   "cell_type": "markdown",
   "id": "7b77047b",
   "metadata": {},
   "source": [
    "# Exploratory Data Analysis\n",
    "\n",
    "In this notebook, we will create the dataset by pulling from various **Real World Data Sources** and then take the necessary measures to **Clean the Data** and also examine potential trends "
   ]
  },
  {
   "cell_type": "markdown",
   "id": "40de6510",
   "metadata": {},
   "source": [
    "## Import libraries"
   ]
  },
  {
   "cell_type": "code",
   "execution_count": null,
   "id": "309a944e",
   "metadata": {},
   "outputs": [],
   "source": [
    "import pandas as pd\n",
    "import PySpark\n",
    "import numpy as np\n"
   ]
  }
 ],
 "metadata": {
  "language_info": {
   "name": "python"
  }
 },
 "nbformat": 4,
 "nbformat_minor": 5
}
