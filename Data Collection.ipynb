{
 "cells": [
  {
   "cell_type": "markdown",
   "id": "7b77047b",
   "metadata": {},
   "source": [
    "# Data Collection\n",
    "\n",
    "In this notebook, we will create the dataset by pulling from ____________ and then take the necessary measures to **Clean the Data** and apply imputation techniques "
   ]
  },
  {
   "cell_type": "markdown",
   "id": "40de6510",
   "metadata": {},
   "source": [
    "## Import libraries"
   ]
  },
  {
   "cell_type": "code",
   "execution_count": 2,
   "id": "309a944e",
   "metadata": {},
   "outputs": [],
   "source": [
    "import pandas as pd\n",
    "import numpy as np\n",
    "import kagglehub # For the data\n",
    "import os \n"
   ]
  },
  {
   "cell_type": "code",
   "execution_count": 3,
   "id": "e39ece02",
   "metadata": {},
   "outputs": [
    {
     "name": "stdout",
     "output_type": "stream",
     "text": [
      "c:\\Users\\henry\\AppData\\Local\\Programs\\Python\\Python312\\python.exe\n"
     ]
    }
   ],
   "source": [
    "import sys\n",
    "print(sys.executable)"
   ]
  },
  {
   "cell_type": "code",
   "execution_count": 5,
   "id": "7abe7af5",
   "metadata": {},
   "outputs": [
    {
     "name": "stdout",
     "output_type": "stream",
     "text": [
      "Downloading from https://www.kaggle.com/api/v1/datasets/download/wordsforthewise/lending-club?dataset_version_number=3...\n"
     ]
    },
    {
     "name": "stderr",
     "output_type": "stream",
     "text": [
      "100%|██████████| 1.26G/1.26G [20:11<00:00, 1.12MB/s]"
     ]
    },
    {
     "name": "stdout",
     "output_type": "stream",
     "text": [
      "Extracting files...\n"
     ]
    },
    {
     "name": "stderr",
     "output_type": "stream",
     "text": [
      "\n"
     ]
    }
   ],
   "source": [
    "# Download latest version of kagglehub\n",
    "path = kagglehub.dataset_download(\"wordsforthewise/lending-club\")"
   ]
  },
  {
   "cell_type": "code",
   "execution_count": null,
   "id": "a03eda60",
   "metadata": {},
   "outputs": [
    {
     "ename": "AttributeError",
     "evalue": "'TextFileReader' object has no attribute 'head'",
     "output_type": "error",
     "traceback": [
      "\u001b[1;31m---------------------------------------------------------------------------\u001b[0m",
      "\u001b[1;31mAttributeError\u001b[0m                            Traceback (most recent call last)",
      "Cell \u001b[1;32mIn[27], line 11\u001b[0m\n\u001b[0;32m      7\u001b[0m os\u001b[38;5;241m.\u001b[39mchdir(rejected_path)\n\u001b[0;32m      8\u001b[0m rejected_path \u001b[38;5;241m=\u001b[39m pd\u001b[38;5;241m.\u001b[39mread_csv(\u001b[38;5;124m'\u001b[39m\u001b[38;5;124mrejected_2007_to_2018Q4.csv\u001b[39m\u001b[38;5;124m'\u001b[39m, chunksize \u001b[38;5;241m=\u001b[39m \u001b[38;5;241m50000\u001b[39m)\n\u001b[1;32m---> 11\u001b[0m \u001b[43maccepted_df\u001b[49m\u001b[38;5;241;43m.\u001b[39;49m\u001b[43mhead\u001b[49m()\n",
      "\u001b[1;31mAttributeError\u001b[0m: 'TextFileReader' object has no attribute 'head'"
     ]
    }
   ],
   "source": [
    "accepted_path = os.path.join(path, 'accepted_2007_to_2018q4.csv')\n",
    "rejected_path = os.path.join(path, 'rejected_2007_to_2018q4.csv')\n",
    "\n",
    "os.chdir(accepted_path)\n",
    "accepted_df = pd.read_csv('accepted_2007_to_2018Q4.csv', chunksize = 50000)\n",
    "\n",
    "os.chdir(rejected_path)\n",
    "rejected_path = pd.read_csv('rejected_2007_to_2018Q4.csv', chunksize = 50000)\n"
   ]
  }
 ],
 "metadata": {
  "kernelspec": {
   "display_name": "Python 3",
   "language": "python",
   "name": "python3"
  },
  "language_info": {
   "codemirror_mode": {
    "name": "ipython",
    "version": 3
   },
   "file_extension": ".py",
   "mimetype": "text/x-python",
   "name": "python",
   "nbconvert_exporter": "python",
   "pygments_lexer": "ipython3",
   "version": "3.12.0"
  }
 },
 "nbformat": 4,
 "nbformat_minor": 5
}
