{
 "cells": [
  {
   "cell_type": "markdown",
   "id": "0aa4d1ee",
   "metadata": {},
   "source": [
    "# Context\n",
    "* When an applicant submits a loan it may be either Accepted or Rejected.\n",
    "\n",
    ", there are 3 possible loan statuses that may occur:\n",
    "    1. Currently active - loan is still being paid off and it is before the due date\n",
    "    2. Fully Paid - The loan was fully paid in the allotted time\n",
    "    3. Default - The applicant was unable to pay the loan fully before the due date and the loan is considered \"defaulted\""
   ]
  },
  {
   "cell_type": "markdown",
   "id": "7b77047b",
   "metadata": {},
   "source": [
    "# Data Collection\n",
    "\n",
    "In this notebook, we will create the dataset by pulling from LendersClub data and then take the necessary measures to **Clean the Data** and apply imputation techniques "
   ]
  },
  {
   "cell_type": "markdown",
   "id": "40de6510",
   "metadata": {},
   "source": [
    "## Import libraries"
   ]
  },
  {
   "cell_type": "code",
   "execution_count": null,
   "id": "309a944e",
   "metadata": {},
   "outputs": [],
   "source": [
    "import pandas as pd\n",
    "import numpy as np\n",
    "import kagglehub # For the data\n",
    "import os "
   ]
  },
  {
   "cell_type": "markdown",
   "id": "1db6a9ff",
   "metadata": {},
   "source": [
    "### Load the dataset"
   ]
  },
  {
   "cell_type": "code",
   "execution_count": 14,
   "id": "1d8cbf9d",
   "metadata": {},
   "outputs": [
    {
     "name": "stderr",
     "output_type": "stream",
     "text": [
      "C:\\Users\\henry\\AppData\\Local\\Temp\\ipykernel_9588\\707967294.py:6: DtypeWarning: Columns (0,19,49,59,118,129,130,131,134,135,136,139,145,146,147) have mixed types. Specify dtype option on import or set low_memory=False.\n",
      "  accepted_df = pd.read_csv(\"accepted_2007_to_2018Q4.csv.gz\")\n"
     ]
    }
   ],
   "source": [
    "# Download latest version of kagglehub\n",
    "path = kagglehub.dataset_download(\"wordsforthewise/lending-club\")\n",
    "os.chdir(r\"C:\\Users\\henry\\.cache\\kagglehub\\datasets\\wordsforthewise\\lending-club\\versions\\3\") # Change into path containing the data\n",
    "\n",
    "\n",
    "accepted_df = pd.read_csv(\"accepted_2007_to_2018Q4.csv.gz\")\n",
    "rejected_df = pd.read_csv(\"rejected_2007_to_2018Q4.csv.gz\")"
   ]
  },
  {
   "cell_type": "markdown",
   "id": "244c12ca",
   "metadata": {},
   "source": [
    "### EDA"
   ]
  }
 ],
 "metadata": {
  "kernelspec": {
   "display_name": "Python 3",
   "language": "python",
   "name": "python3"
  },
  "language_info": {
   "codemirror_mode": {
    "name": "ipython",
    "version": 3
   },
   "file_extension": ".py",
   "mimetype": "text/x-python",
   "name": "python",
   "nbconvert_exporter": "python",
   "pygments_lexer": "ipython3",
   "version": "3.12.0"
  }
 },
 "nbformat": 4,
 "nbformat_minor": 5
}
